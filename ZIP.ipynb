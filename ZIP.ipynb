{
  "nbformat": 4,
  "nbformat_minor": 0,
  "metadata": {
    "colab": {
      "provenance": [],
      "authorship_tag": "ABX9TyNhq1nlpjaKEi9PQfkbsYTi",
      "include_colab_link": true
    },
    "kernelspec": {
      "name": "python3",
      "display_name": "Python 3"
    },
    "language_info": {
      "name": "python"
    }
  },
  "cells": [
    {
      "cell_type": "markdown",
      "metadata": {
        "id": "view-in-github",
        "colab_type": "text"
      },
      "source": [
        "<a href=\"https://colab.research.google.com/github/ddannybb25/python/blob/main/ZIP.ipynb\" target=\"_parent\"><img src=\"https://colab.research.google.com/assets/colab-badge.svg\" alt=\"Open In Colab\"/></a>"
      ]
    },
    {
      "cell_type": "markdown",
      "source": [
        "ref:https://www.daleseo.com/python-zip/"
      ],
      "metadata": {
        "id": "ILGC69tqKnQj"
      }
    },
    {
      "cell_type": "code",
      "execution_count": 1,
      "metadata": {
        "colab": {
          "base_uri": "https://localhost:8080/"
        },
        "id": "scgEeIETIYTs",
        "outputId": "9eb4a130-770b-465b-d7df-4fb22c242d56"
      },
      "outputs": [
        {
          "output_type": "stream",
          "name": "stdout",
          "text": [
            "(1, 'A')\n",
            "(2, 'B')\n",
            "(3, 'C')\n"
          ]
        }
      ],
      "source": [
        "numbers=[1,2,3]\n",
        "letters=[\"A\",\"B\",\"C\"]\n",
        "\n",
        "for pair in zip(numbers,letters):\n",
        "    print(pair)"
      ]
    },
    {
      "cell_type": "code",
      "source": [
        "numbers = [1,2,3]\n",
        "letters= [\"A\",\"B\",\"C\"]\n",
        "for i in range(3):\n",
        "    pair=(numbers[i],letters[i])\n",
        "    print(pair)"
      ],
      "metadata": {
        "colab": {
          "base_uri": "https://localhost:8080/"
        },
        "id": "ZegsboEyIp1M",
        "outputId": "a9d0c3cd-dd11-485c-8c70-f1f6947c59b1"
      },
      "execution_count": 2,
      "outputs": [
        {
          "output_type": "stream",
          "name": "stdout",
          "text": [
            "(1, 'A')\n",
            "(2, 'B')\n",
            "(3, 'C')\n"
          ]
        }
      ]
    },
    {
      "cell_type": "markdown",
      "source": [
        "병렬 처리"
      ],
      "metadata": {
        "id": "efwJXYMTJCBB"
      }
    },
    {
      "cell_type": "code",
      "source": [
        "for number,upper,lower in zip(\"12345\",\"ABCDE\",\"abcde\"):\n",
        "    print(number,upper,lower)"
      ],
      "metadata": {
        "colab": {
          "base_uri": "https://localhost:8080/"
        },
        "id": "eB3OA8jwJEOr",
        "outputId": "6a8d7ba0-a830-429c-d77e-8f20730bcc83"
      },
      "execution_count": 3,
      "outputs": [
        {
          "output_type": "stream",
          "name": "stdout",
          "text": [
            "1 A a\n",
            "2 B b\n",
            "3 C c\n",
            "4 D d\n",
            "5 E e\n"
          ]
        }
      ]
    },
    {
      "cell_type": "markdown",
      "source": [
        "upzip"
      ],
      "metadata": {
        "id": "b4bjevIiJRzM"
      }
    },
    {
      "cell_type": "code",
      "source": [
        "numbers=(1,2,3)\n",
        "letters=(\"A\",\"B\",\"C\")\n",
        "pairs=list(zip(numbers,letters))\n",
        "print(pairs)"
      ],
      "metadata": {
        "colab": {
          "base_uri": "https://localhost:8080/"
        },
        "id": "ukMx35SJJQqm",
        "outputId": "f9249d2d-4a9f-463f-ee87-4678344d6b7a"
      },
      "execution_count": 4,
      "outputs": [
        {
          "output_type": "stream",
          "name": "stdout",
          "text": [
            "[(1, 'A'), (2, 'B'), (3, 'C')]\n"
          ]
        }
      ]
    },
    {
      "cell_type": "code",
      "source": [
        "numbers,letters=zip(*pairs)"
      ],
      "metadata": {
        "id": "WapLuFSPJmJw"
      },
      "execution_count": 6,
      "outputs": []
    },
    {
      "cell_type": "code",
      "source": [
        "numbers"
      ],
      "metadata": {
        "colab": {
          "base_uri": "https://localhost:8080/"
        },
        "id": "9C7SpbXDJsff",
        "outputId": "fcffbf2a-a1a8-40a0-f347-d5a9c3032e1f"
      },
      "execution_count": 7,
      "outputs": [
        {
          "output_type": "execute_result",
          "data": {
            "text/plain": [
              "(1, 2, 3)"
            ]
          },
          "metadata": {},
          "execution_count": 7
        }
      ]
    },
    {
      "cell_type": "code",
      "source": [
        "letters"
      ],
      "metadata": {
        "colab": {
          "base_uri": "https://localhost:8080/"
        },
        "id": "C0WdlejYJttr",
        "outputId": "33e78185-07c7-4a31-d445-fa89ad1a4da0"
      },
      "execution_count": 8,
      "outputs": [
        {
          "output_type": "execute_result",
          "data": {
            "text/plain": [
              "('A', 'B', 'C')"
            ]
          },
          "metadata": {},
          "execution_count": 8
        }
      ]
    },
    {
      "cell_type": "markdown",
      "source": [
        "사전변환"
      ],
      "metadata": {
        "id": "s_CKpailJ2Ch"
      }
    },
    {
      "cell_type": "code",
      "source": [
        "keys=[1,2,3]\n",
        "values=[\"A\",\"B\",\"C\"]\n",
        "dict(zip(keys,values))"
      ],
      "metadata": {
        "colab": {
          "base_uri": "https://localhost:8080/"
        },
        "id": "FtQKXTHpJ0gH",
        "outputId": "8c7874b7-49dc-4777-b091-752d26e4c49a"
      },
      "execution_count": 9,
      "outputs": [
        {
          "output_type": "execute_result",
          "data": {
            "text/plain": [
              "{1: 'A', 2: 'B', 3: 'C'}"
            ]
          },
          "metadata": {},
          "execution_count": 9
        }
      ]
    },
    {
      "cell_type": "code",
      "source": [
        "dict(zip([\"year\",\"month\",\"date\"],[2001,1,31]))"
      ],
      "metadata": {
        "colab": {
          "base_uri": "https://localhost:8080/"
        },
        "id": "t7UsECl2KBkb",
        "outputId": "fa02386e-51c1-4576-e2aa-73c604ffb4c4"
      },
      "execution_count": 10,
      "outputs": [
        {
          "output_type": "execute_result",
          "data": {
            "text/plain": [
              "{'year': 2001, 'month': 1, 'date': 31}"
            ]
          },
          "metadata": {},
          "execution_count": 10
        }
      ]
    },
    {
      "cell_type": "markdown",
      "source": [
        "주의사항"
      ],
      "metadata": {
        "id": "dWFUqFPSKUmC"
      }
    },
    {
      "cell_type": "code",
      "source": [
        "numbers=[\"1\",\"2\",\"3\"]\n",
        "letters=[\"A\"]\n",
        "list(zip(numbers,letters))"
      ],
      "metadata": {
        "colab": {
          "base_uri": "https://localhost:8080/"
        },
        "id": "m3WyFjYNKQ-p",
        "outputId": "066926c9-e308-468d-cfd4-8940805fc9ab"
      },
      "execution_count": 11,
      "outputs": [
        {
          "output_type": "execute_result",
          "data": {
            "text/plain": [
              "[('1', 'A')]"
            ]
          },
          "metadata": {},
          "execution_count": 11
        }
      ]
    }
  ]
}